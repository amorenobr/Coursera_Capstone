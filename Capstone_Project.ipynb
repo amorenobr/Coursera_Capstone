# This notebook will be used for the capstone project in Coursera

import pandas as pd
import numpy as np

print("Hello Capstone Project Course!")
